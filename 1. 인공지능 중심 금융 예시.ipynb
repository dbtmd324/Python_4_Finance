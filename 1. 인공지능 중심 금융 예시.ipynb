{
 "cells": [
  {
   "cell_type": "markdown",
   "id": "4ebc2e7b",
   "metadata": {},
   "source": [
    "# 1. 인공지능 중심 금융 예시"
   ]
  },
  {
   "cell_type": "code",
   "execution_count": null,
   "id": "fa71c40c",
   "metadata": {},
   "outputs": [],
   "source": [
    "import numpy as np\n",
    "import pandas as pd\n",
    "\n",
    "data = pd.read_csv('../../source/tr_eikon_eod_data.csv',\n",
    "\t\t\t\t\t\t\t\t\t index_col = 0, parse_dates = True)\n",
    "data = pd.DataFrame(data['AAPL.0'])                        # 1. 애플 주식(AAPL.0)의 과거 종가 데이터 선택\n",
    "data['Returns'] = np.log(data / data.shift())              # 2. 전체 데이터의 로그 수익률 계산\n",
    "data.dropna(inplace=True)\n",
    "\n",
    "lags = 6\n",
    "\n",
    "cols = []\n",
    "for lag in range(1, lags + 1):\n",
    "\t\tcol = 'lag_{}'.format(lag)\n",
    "\t\tdata[col] = np.sign(data['Returns'].shift(lag))        # 3. 로그 수익률 데이터를 특정 방향(+1 또는 -1)으로 지연시킨 열을 포함한 데이터프레임을 만듦\n",
    "\t\tcols.append(col)\n",
    "data.dropna(inplace=True)"
   ]
  },
  {
   "cell_type": "code",
   "execution_count": null,
   "id": "333bb9c5",
   "metadata": {},
   "outputs": [],
   "source": [
    "from sklearn.svm import SVC\n",
    "\n",
    "model = SVC(gamma = 'auto')                               # 1. 모형 객체 생성\n",
    "model.fit(data[cols], np.sign(data['Returns']))           # 2. 특정 데이터와 레이블 데이터(주가 방향)로 모형 학습\n",
    "SVC(C = 1.0, cache_size = 200, class_weight = None, coef0 = 0.0,\n",
    "\t\tdecision_function_shape = 'ovr', degree = 3, gamma = 'auto', kernel = 'rbf',\n",
    "\t\tmax_iter = -1, probability = False, random_state = None, shrinking = True,\n",
    "\t\ttol = 0.001, verbose = False)\n",
    "\n",
    "data['Prediction'] = model.predict(data[cols])            # 3. 학습된 모형으로 예측한 결과를 매매 전략에 적용\n",
    "\n",
    "data['Strategy'] = data['Prediction'] * data['Returns']   # 4. 예측값으로 만든 매매 전략과 벤치마크 전략의 로그 수익률을 계산\n",
    "\n",
    "data[['Returns', 'Strategy']].cumsum().apply(np.exp).plot(figsize = (10, 6));  # 5. ML 기반 매매 전략의 성과와 단순히 매수를 유지하는 벤치마크 투자의 성과를 그림으로 비교 \n"
   ]
  }
 ],
 "metadata": {
  "kernelspec": {
   "display_name": "Python 3 (ipykernel)",
   "language": "python",
   "name": "python3"
  },
  "language_info": {
   "codemirror_mode": {
    "name": "ipython",
    "version": 3
   },
   "file_extension": ".py",
   "mimetype": "text/x-python",
   "name": "python",
   "nbconvert_exporter": "python",
   "pygments_lexer": "ipython3",
   "version": "3.10.5"
  }
 },
 "nbformat": 4,
 "nbformat_minor": 5
}
